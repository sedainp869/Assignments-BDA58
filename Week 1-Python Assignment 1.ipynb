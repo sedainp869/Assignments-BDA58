{
 "cells": [
  {
   "cell_type": "code",
   "execution_count": 1,
   "id": "1e303ff2-da53-4f0e-b75a-aa0bf6c0936a",
   "metadata": {},
   "outputs": [
    {
     "data": {
      "text/plain": [
       "[20, 30, 10, 50, 7, 8, 3]"
      ]
     },
     "execution_count": 1,
     "metadata": {},
     "output_type": "execute_result"
    }
   ],
   "source": [
    "Num1 = [20, 30, 10, 50, 7, 8, 3]# Created a list for Num1 value\n",
    "Num1"
   ]
  },
  {
   "cell_type": "code",
   "execution_count": 2,
   "id": "79537ebe-4fe3-405a-8768-985d333148a1",
   "metadata": {},
   "outputs": [
    {
     "name": "stdout",
     "output_type": "stream",
     "text": [
      "[20, 30, 10, 50, 7, 8, 3]\n"
     ]
    }
   ],
   "source": [
    "#Scenario 1\n",
    "max(Num1)#maximum value from the Num1 list\n",
    "print(Num1)"
   ]
  },
  {
   "cell_type": "code",
   "execution_count": 3,
   "id": "2d28b004-4205-42ff-bd2f-9dbaf8698888",
   "metadata": {},
   "outputs": [
    {
     "name": "stdout",
     "output_type": "stream",
     "text": [
      "apple, banana, cherry\n"
     ]
    }
   ],
   "source": [
    "#scenario 2\n",
    "fruits = [\"apple\", \"banana\", \"cherry\"] #List of string\n",
    "result = \", \".join(fruits)\n",
    "print(result)\n"
   ]
  },
  {
   "cell_type": "code",
   "execution_count": 4,
   "id": "170b5f21-202b-424a-acdd-8128ce16fd4c",
   "metadata": {},
   "outputs": [
    {
     "name": "stdout",
     "output_type": "stream",
     "text": [
      "22\n"
     ]
    }
   ],
   "source": [
    "#scenario 3\n",
    "ages = {\"Alice\": 25, \"Bob\": 30, \"Dev\": 22, \"Eva\": 28}\n",
    "dev_age = ages[\"Dev\"]# Get the age of \"Dev\"\n",
    "print(dev_age)\n"
   ]
  },
  {
   "cell_type": "code",
   "execution_count": 5,
   "id": "f1ed993b-77b5-4f8b-b6fe-03aacc49f0cc",
   "metadata": {},
   "outputs": [
    {
     "name": "stdout",
     "output_type": "stream",
     "text": [
      "[1, 2, 3, 4, 5]\n"
     ]
    }
   ],
   "source": [
    "#scenario 4\n",
    "numbers = [1, 2, 2, 3, 4, 4, 5]\n",
    "unique_numbers = []\n",
    "for num in numbers:\n",
    "    if num not in unique_numbers:\n",
    "        unique_numbers.append(num)\n",
    "print(unique_numbers)\n"
   ]
  },
  {
   "cell_type": "code",
   "execution_count": 6,
   "id": "cd18f3d9-de3e-4b69-afe7-eaa94cdf2cb3",
   "metadata": {},
   "outputs": [
    {
     "name": "stdout",
     "output_type": "stream",
     "text": [
      "28\n"
     ]
    }
   ],
   "source": [
    "#scenario 5\n",
    "import numpy as np\n",
    "array = np.array([1, 2, 3, 4, 5, 6, 7])\n",
    "total_sum = np.sum(array)\n",
    "print(total_sum)\n"
   ]
  },
  {
   "cell_type": "code",
   "execution_count": 7,
   "id": "fc95775b-087e-4f00-9378-30847db6d1f5",
   "metadata": {},
   "outputs": [
    {
     "name": "stdout",
     "output_type": "stream",
     "text": [
      "[7 8 9]\n"
     ]
    }
   ],
   "source": [
    "#scenario 6\n",
    "import numpy as np\n",
    "array = np.array([[1, 2, 3],\n",
    "                  [4, 5, 6],\n",
    "                  [7, 8, 9]])\n",
    "max_values = np.max(array, axis=0)# Find the maximum value in each column\n",
    "print(max_values)\n"
   ]
  },
  {
   "cell_type": "code",
   "execution_count": 19,
   "id": "09d2ef96-e371-418a-9900-9dc8d65336ff",
   "metadata": {},
   "outputs": [
    {
     "name": "stdout",
     "output_type": "stream",
     "text": [
      "      Name  Age\n",
      "2  Charlie   22\n",
      "0    Alice   25\n",
      "1      Bob   30\n",
      "3    David   35\n"
     ]
    }
   ],
   "source": [
    "#scenario 7\n",
    "import pandas as pd\n",
    "df = pd.DataFrame({'Name': ['Alice', 'Bob', 'Charlie', 'David'],\n",
    "                   'Age': [25, 30, 22, 35]})         # Create a DataFrame\n",
    "sorted_df = df.sort_values(by='Age')\n",
    "print(sorted_df)\n"
   ]
  },
  {
   "cell_type": "code",
   "execution_count": 23,
   "id": "2c7175fa-e6fd-4cfc-bdaa-f75396db1f9c",
   "metadata": {},
   "outputs": [
    {
     "name": "stdout",
     "output_type": "stream",
     "text": [
      "450\n"
     ]
    }
   ],
   "source": [
    "#scenario 8\n",
    "df = pd.DataFrame({'Product': ['A', 'B', 'C'], 'Sales': [100, 200, 150]})\n",
    "total_sales = df['Sales'].sum()\n",
    "print(total_sales)\n"
   ]
  },
  {
   "cell_type": "code",
   "execution_count": 21,
   "id": "e5c8a40c-3844-4eae-80aa-84e4ded75b05",
   "metadata": {},
   "outputs": [
    {
     "data": {
      "text/plain": [
       "int"
      ]
     },
     "execution_count": 21,
     "metadata": {},
     "output_type": "execute_result"
    }
   ],
   "source": [
    "#scenario 9\n",
    "x = 10\n",
    "type(x)"
   ]
  },
  {
   "cell_type": "code",
   "execution_count": 35,
   "id": "27fccddb-0f10-4242-b4b5-2c3599098791",
   "metadata": {},
   "outputs": [
    {
     "name": "stdout",
     "output_type": "stream",
     "text": [
      "[1, 2, 3, 4, 5]\n"
     ]
    }
   ],
   "source": [
    "#scenario 11\n"
   ]
  },
  {
   "cell_type": "code",
   "execution_count": 49,
   "id": "4119f74b-4958-472f-bcdc-f479b5d4e4f6",
   "metadata": {},
   "outputs": [
    {
     "name": "stdout",
     "output_type": "stream",
     "text": [
      "olleH dlrow\n"
     ]
    }
   ],
   "source": [
    "#scenario 12\n",
    "sentence = \"Hello world\"\n",
    "words = sentence.split()\n",
    "reversed_words = [word[::-1] for word in words]\n",
    "reversed_sentence = ' '.join(reversed_words)\n",
    "print(reversed_sentence)\n"
   ]
  },
  {
   "cell_type": "code",
   "execution_count": 41,
   "id": "ff09ff63-6780-4912-a252-dffd0af37ccc",
   "metadata": {},
   "outputs": [
    {
     "name": "stdout",
     "output_type": "stream",
     "text": [
      "{'a': 1, 'b': 2, 'c': 3}\n"
     ]
    }
   ],
   "source": [
    "#scenario 13\n",
    "keys = ['a', 'b', 'c']\n",
    "values = [1, 2, 3]\n",
    "combined_dict = dict(zip(keys, values))\n",
    "print(combined_dict)\n",
    "\n"
   ]
  },
  {
   "cell_type": "code",
   "execution_count": 47,
   "id": "1c187321-2029-440b-b4ae-e980c1dd379c",
   "metadata": {},
   "outputs": [
    {
     "name": "stdout",
     "output_type": "stream",
     "text": [
      "[('Bob', 25), ('Alice', 30), ('Charlie', 35)]\n"
     ]
    }
   ],
   "source": [
    "#scenario 14\n",
    "people = [('Alice', 30), ('Bob', 25), ('Charlie', 35)]\n",
    "sorted_people = sorted(people, key=lambda x: x[1])\n",
    "print(sorted_people)\n"
   ]
  },
  {
   "cell_type": "code",
   "execution_count": 53,
   "id": "16ab792a-57c7-462b-b32a-2ef4ad6f4c65",
   "metadata": {},
   "outputs": [
    {
     "name": "stdout",
     "output_type": "stream",
     "text": [
      "[2. 5. 8.]\n"
     ]
    }
   ],
   "source": [
    "#scenario 15\n",
    "import numpy as np\n",
    "array = np.array([[1, 2, 3], [4, 5, 6], [7, 8, 9]])\n",
    "mean_values = np.mean(array, axis=1)\n",
    "print(mean_values)"
   ]
  },
  {
   "cell_type": "code",
   "execution_count": 57,
   "id": "053d1c07-079c-4235-94bc-6d53ff4015d7",
   "metadata": {},
   "outputs": [
    {
     "name": "stdout",
     "output_type": "stream",
     "text": [
      "[0. 0. 0. 0. 5. 0. 0. 0. 0. 0.]\n"
     ]
    }
   ],
   "source": [
    "#scenario 16\n",
    "array = np.zeros(10)\n",
    "array[4] = 5\n",
    "print(array)"
   ]
  },
  {
   "cell_type": "code",
   "execution_count": 59,
   "id": "34a4a35b-7de3-4a43-92d8-ba72e30e80c2",
   "metadata": {},
   "outputs": [
    {
     "name": "stdout",
     "output_type": "stream",
     "text": [
      "88.0\n"
     ]
    }
   ],
   "source": [
    "#scenario 17\n",
    "df = pd.DataFrame({'Scores': [85, 90, 78, 92, 88]})\n",
    "median_score = df['Scores'].median()\n",
    "print(median_score)"
   ]
  },
  {
   "cell_type": "code",
   "execution_count": 65,
   "id": "729417e4-a71b-406b-a6c6-9a38373a301a",
   "metadata": {},
   "outputs": [
    {
     "name": "stdout",
     "output_type": "stream",
     "text": [
      "   Sales        Date\n",
      "2    120  2024-03-01\n",
      "0    150  2024-01-01\n"
     ]
    }
   ],
   "source": [
    "#scenario 18\n",
    "df = pd.DataFrame({'Sales': [150, 80, 120], 'Date': ['2024-01-01', '2024-02-01', '2024-03-01']})\n",
    "filtered_sorted_df = df[df['Sales'] > 100].sort_values(by='Date', ascending=False)\n",
    "print(filtered_sorted_df)"
   ]
  },
  {
   "cell_type": "code",
   "execution_count": 67,
   "id": "bccb8e1a-8a37-4d5f-b826-d3b23ee66c20",
   "metadata": {},
   "outputs": [
    {
     "name": "stdout",
     "output_type": "stream",
     "text": [
      "42\n"
     ]
    }
   ],
   "source": [
    "#scenario 19\n",
    "def safe_convert_to_int(s):\n",
    "    try:\n",
    "        return int(s)\n",
    "    except ValueError:\n",
    "        return None\n",
    "\n",
    "number = safe_convert_to_int(\"42\")\n",
    "print(number)"
   ]
  },
  {
   "cell_type": "code",
   "execution_count": 69,
   "id": "e7e20acb-bfa7-4d1b-8a99-ccba75dc76ab",
   "metadata": {},
   "outputs": [
    {
     "name": "stdout",
     "output_type": "stream",
     "text": [
      "['apple', 'banana']\n"
     ]
    }
   ],
   "source": [
    "#scenario 20\n",
    "data = [1, 'apple', 3.14, 'banana', 42]\n",
    "strings = [item for item in data if isinstance(item, str)]\n",
    "print(strings)"
   ]
  },
  {
   "cell_type": "code",
   "execution_count": null,
   "id": "5dbb0e37-0aed-41bd-8cc2-e40381d11308",
   "metadata": {},
   "outputs": [],
   "source": []
  }
 ],
 "metadata": {
  "kernelspec": {
   "display_name": "Python 3 (ipykernel)",
   "language": "python",
   "name": "python3"
  },
  "language_info": {
   "codemirror_mode": {
    "name": "ipython",
    "version": 3
   },
   "file_extension": ".py",
   "mimetype": "text/x-python",
   "name": "python",
   "nbconvert_exporter": "python",
   "pygments_lexer": "ipython3",
   "version": "3.12.4"
  }
 },
 "nbformat": 4,
 "nbformat_minor": 5
}
